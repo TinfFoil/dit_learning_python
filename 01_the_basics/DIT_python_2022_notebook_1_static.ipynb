{
 "cells": [
  {
   "cell_type": "markdown",
   "metadata": {
    "id": "Vd0UVgdzrwpV"
   },
   "source": [
    "# The first DIT python course jupyter notebook\n",
    "\n",
    "This is a text cell. It cannot be executed.\n",
    "\n",
    "It is formatted in [markdown](https://daringfireball.net/projects/markdown/).\n",
    "\n",
    "It is a good idea to use it to add **documentation** and to **organise** the notebook.\n",
    "\n",
    "It is even possible to display code in a text cell, not intended to get executed:\n",
    "\n",
    "\n",
    "```\n",
    "# A tiny code snippet\n",
    "x = 5\n",
    "y = 3\n",
    "area = x * y\n",
    "```\n",
    "\n",
    "Next you will see some code snippets. There are two ways to execute them: with the **arrow on the left** or with 'Shift+Enter'\n"
   ]
  },
  {
   "cell_type": "markdown",
   "metadata": {
    "id": "miZnOkxUtlSh"
   },
   "source": [
    "## Some basic snippets\n",
    "These snippets are partially derived from Python's [list of simple programs](https://wiki.python.org/moin/SimplePrograms)"
   ]
  },
  {
   "cell_type": "code",
   "execution_count": null,
   "metadata": {
    "id": "9YAPFZeTpUBx"
   },
   "outputs": [],
   "source": [
    "# This is a comment (i.e. it is not going to be interpreted/executed)\n",
    "# 1. Output\n",
    "print('Ciao, mondo')  # \"Hello world\" is the classical fist code snippet"
   ]
  },
  {
   "cell_type": "code",
   "execution_count": null,
   "metadata": {
    "id": "UzatJ--uuLd0"
   },
   "outputs": [],
   "source": [
    " # 2. Input and assignment\n",
    "name = input('Come ti chiami?\\n')\n",
    "print ('Ciao, %s.' % name)"
   ]
  },
  {
   "cell_type": "code",
   "execution_count": null,
   "metadata": {
    "id": "MS6r7VMfu0tr"
   },
   "outputs": [],
   "source": [
    "# 3. For loop\n",
    "for i in [1, 2, 3]:\n",
    "  print(i*i)"
   ]
  },
  {
   "cell_type": "code",
   "execution_count": null,
   "metadata": {
    "id": "A0fBA0NxxNVt"
   },
   "outputs": [],
   "source": [
    "# 4. While loop\n",
    "x = 0\n",
    "while x < 50:\n",
    "  print(x)\n",
    "  x = x + 1"
   ]
  },
  {
   "cell_type": "code",
   "execution_count": null,
   "metadata": {
    "id": "RN7rgUNgvOXl"
   },
   "outputs": [],
   "source": [
    "# 5. If/else conditional\n",
    "# (info from https://it.wikipedia.org/wiki/Pan_European_Game_Information)\n",
    "age = int(input('How old are you?\\n'))\n",
    "if age >= 16:\n",
    "  print('ok... you can play Resident Evil or Final Fantasy')\n",
    "else:\n",
    "  print('good... I can offer Fortnite or Street Fighter')"
   ]
  },
  {
   "cell_type": "markdown",
   "metadata": {
    "id": "sdHxo4sx2t1_"
   },
   "source": [
    "## Some numerical operations"
   ]
  },
  {
   "cell_type": "code",
   "execution_count": null,
   "metadata": {
    "id": "Yt_stlEy2MNv"
   },
   "outputs": [],
   "source": [
    "# Sum\n",
    "\n",
    "5 + 5"
   ]
  },
  {
   "cell_type": "code",
   "execution_count": null,
   "metadata": {
    "id": "i5ZIElB02abX"
   },
   "outputs": [],
   "source": [
    "# Division\n",
    "\n",
    "25 / 5"
   ]
  },
  {
   "cell_type": "code",
   "execution_count": null,
   "metadata": {
    "id": "im9iOU1F2fHU"
   },
   "outputs": [],
   "source": [
    "# Multiplication\n",
    "\n",
    "5 * 5"
   ]
  },
  {
   "cell_type": "code",
   "execution_count": null,
   "metadata": {
    "id": "YtvVQQaF2oY4"
   },
   "outputs": [],
   "source": [
    "# Power\n",
    "\n",
    "5**2"
   ]
  },
  {
   "cell_type": "code",
   "execution_count": null,
   "metadata": {
    "id": "HDCWZulI29_3"
   },
   "outputs": [],
   "source": [
    "# QUESTION: What is this going to do?\n",
    "5**0.5"
   ]
  },
  {
   "cell_type": "code",
   "execution_count": null,
   "metadata": {
    "id": "c6U21piq3Pmy"
   },
   "outputs": [],
   "source": [
    "# Is 5**0.5 equivalent to this?\n",
    "5**1/2"
   ]
  },
  {
   "cell_type": "markdown",
   "metadata": {
    "id": "d1ACs-XJ3h23"
   },
   "source": [
    "So far we are using python as a calculator. Let's use it as a computing tool"
   ]
  },
  {
   "cell_type": "code",
   "execution_count": null,
   "metadata": {
    "id": "zgt7MDNV3pI4"
   },
   "outputs": [],
   "source": [
    "x = 5\n",
    "y = 7\n",
    "area = 5 * 7\n",
    "# What happened here?"
   ]
  },
  {
   "cell_type": "markdown",
   "metadata": {
    "id": "rrDFuvq_4DPE"
   },
   "source": [
    "What happens if we do it with text?"
   ]
  },
  {
   "cell_type": "code",
   "execution_count": null,
   "metadata": {
    "id": "TTAwKpWp4MhA"
   },
   "outputs": [],
   "source": [
    "x = 'DIT'\n",
    "y = 5\n",
    "\n",
    "# Adding a number and string?\n",
    "x+y\n"
   ]
  },
  {
   "cell_type": "code",
   "execution_count": null,
   "metadata": {
    "id": "pSk2SYaa4Z2p"
   },
   "outputs": [],
   "source": [
    "# Multiplying a string times a number?\n",
    "x * y"
   ]
  },
  {
   "cell_type": "code",
   "execution_count": null,
   "metadata": {
    "id": "8joUIGWu4yEQ"
   },
   "outputs": [],
   "source": [
    "# Adding a string and a string?\n",
    "x + x"
   ]
  },
  {
   "cell_type": "code",
   "execution_count": null,
   "metadata": {
    "id": "CTv2niFG454P"
   },
   "outputs": [],
   "source": [
    "# Multiplying a string times a string?\n",
    "x * x"
   ]
  },
  {
   "cell_type": "markdown",
   "metadata": {
    "id": "2-zj7fbu5Cx7"
   },
   "source": [
    "**Let's go back to the slides for a moment**"
   ]
  },
  {
   "cell_type": "markdown",
   "metadata": {
    "id": "VBblET5nySW2"
   },
   "source": [
    "---\n",
    "## Your **homework**\n",
    "\n",
    "\n",
    "\n",
    "\n",
    "\n"
   ]
  },
  {
   "cell_type": "markdown",
   "metadata": {
    "id": "pxwsSWGHIhf7"
   },
   "source": [
    "### 1. Write the algorithm to print a **square** of a given length made with \"x\". \n",
    "\n",
    "For instance, a square of length 3 should look like...\n",
    "\n",
    "\n",
    "\n",
    "```\n",
    "xxx\n",
    "xxx\n",
    "xxx\n",
    "```\n",
    "\n",
    "A square of length 1 should look like...\n",
    "\n",
    "```\n",
    "x\n",
    "```\n"
   ]
  },
  {
   "cell_type": "markdown",
   "metadata": {
    "id": "0Ruh9sDVJETl"
   },
   "source": [
    "**Write your algorithm here!**\n"
   ]
  },
  {
   "cell_type": "markdown",
   "metadata": {
    "id": "r3x0ioLvJJSv"
   },
   "source": [
    "### 2. Once you are happy with your algorithm, implement it in Python in the next cell and run it. \n",
    "\n",
    "I write **None**. Just delete it and go ahead"
   ]
  },
  {
   "cell_type": "code",
   "execution_count": null,
   "metadata": {
    "id": "KvELPwUeJ4K_"
   },
   "outputs": [],
   "source": [
    "# Implement your square code here\n",
    "None"
   ]
  },
  {
   "cell_type": "markdown",
   "metadata": {
    "id": "kkZmpduKKD_p"
   },
   "source": [
    "### 3. Do the necessary modifications to let the user pick the length of the square.\n",
    "\n",
    "**Important:**\n",
    "\n",
    "\n",
    "*   Don't let the user choose a length of 0 or negative (right: geometrically there are squares with such dimensions... ignore that).\n",
    "*   Don't let the user pick a value higher than 100 (no actual issues, but otherwise it's going to be too large to display \"nicely\"). \n",
    "*   Check if the user is giving you an integer and **crash** the process otherwise\n",
    "\n",
    "This is called [defensive programming](https://en.wikipedia.org/wiki/Defensive_programming).\n",
    "\n",
    "Notice that, by default, *print()* adds a linebreak at the end of the string. You might have to look at the [documentation](https://docs.python.org/3.8/library/functions.html#print) (but there are ways to do this without *tweaking* the default behaviour of print).\n",
    "\n",
    "\n"
   ]
  },
  {
   "cell_type": "code",
   "execution_count": null,
   "metadata": {
    "id": "OQJbn6_vL10z"
   },
   "outputs": [],
   "source": [
    "# Write your code here\n",
    "None"
   ]
  },
  {
   "cell_type": "markdown",
   "metadata": {
    "id": "Yl6RQuWGL56x"
   },
   "source": [
    "### 4. Convert your code into a method which parameters are both the length of the square and the used symbol.\n",
    "\n",
    "I write the method signature for you. You can depart from it.\n",
    "\n",
    "I \"call\" your method in the coming cells, with the expected output in the comment\n",
    "\n",
    " **Important:**\n",
    " * Don't forget to check everything you did already, following the defensive programming principle.\n",
    " * The symbol inserted when calling the method should be one single character. Hint: *len()*.\n",
    " * The character should not be a space (or we wont see anything!)"
   ]
  },
  {
   "cell_type": "code",
   "execution_count": null,
   "metadata": {
    "id": "5Z9HmuZlMrc4"
   },
   "outputs": [],
   "source": [
    "# Notice that I am documenting the method\n",
    "def display_square(symbol, length):\n",
    "  \"\"\"\n",
    "  A method to display a square\n",
    "  :param str symbol: the symbol used to build the square\n",
    "  :param int length: the length of the square\n",
    "  \"\"\"\n",
    "\n",
    "  # Check that the length is reasonable\n",
    "  None\n",
    "  \n",
    "  # Check that the symbol is reasonable\n",
    "  None\n",
    "\n",
    "  # Display the square\n",
    "  None\n",
    "\n",
    "  return\n"
   ]
  },
  {
   "cell_type": "code",
   "execution_count": null,
   "metadata": {
    "id": "g9hDpErQNM30"
   },
   "outputs": [],
   "source": [
    "# Should display\n",
    "# 5\n",
    "display_square(\"5\", 1)\n"
   ]
  },
  {
   "cell_type": "code",
   "execution_count": null,
   "metadata": {
    "id": "zknQq_ctNjDY"
   },
   "outputs": [],
   "source": [
    "# Should display\n",
    "# ooo \n",
    "# ooo\n",
    "# ooo\n",
    "display_square(\"o\", 3)"
   ]
  },
  {
   "cell_type": "code",
   "execution_count": null,
   "metadata": {
    "id": "QTVI65tCN0Yi"
   },
   "outputs": [],
   "source": [
    "# Should trigger an error \n",
    "# (alternatively, you could use 'o', but that's not necessarily a good idea)\n",
    "display_square(\"oo\", 5)"
   ]
  },
  {
   "cell_type": "markdown",
   "metadata": {
    "id": "V5YQa54pWQqG"
   },
   "source": [
    "### 5. Expand the method by allowing it to display rectangles.\n"
   ]
  },
  {
   "cell_type": "code",
   "execution_count": null,
   "metadata": {
    "id": "Bqcyw9xyWoe_"
   },
   "outputs": [],
   "source": [
    "def display_rectangle(symbol, vertical_len, horizontal_len):\n",
    "  \"\"\"\n",
    "  A method to display a rectangle\n",
    "  :param str symbol:          the symbol used to build the square\n",
    "  :param int vertical_len:    the vertical length of the rectangle\n",
    "  :param int horizontal_len:  the horizontal length of the rectangle\n",
    "  \"\"\"\n",
    "\n",
    "  # Check that the lengths are reasonable\n",
    "  None\n",
    "  \n",
    "  # Check that the symbol is reasonable\n",
    "  None\n",
    "\n",
    "  # Display the rectangle\n",
    "  None\n",
    "\n",
    "  return"
   ]
  },
  {
   "cell_type": "code",
   "execution_count": null,
   "metadata": {
    "id": "6psKdl3TXUiT"
   },
   "outputs": [],
   "source": [
    "# Should display\n",
    "# ooo \n",
    "# ooo\n",
    "# ooo\n",
    "display_rectangle(\"o\", 3, 3)"
   ]
  },
  {
   "cell_type": "code",
   "execution_count": null,
   "metadata": {
    "id": "99ebXBm4XZj9"
   },
   "outputs": [],
   "source": [
    "# Should display\n",
    "# ooooooooo\n",
    "# ooooooooo\n",
    "# ooooooooo\n",
    "display_rectangle(\"o\", 3, 9)"
   ]
  },
  {
   "cell_type": "code",
   "execution_count": null,
   "metadata": {
    "id": "9-ORiV9CXlrp"
   },
   "outputs": [],
   "source": [
    "# Should display\n",
    "# oo\n",
    "# oo\n",
    "# oo\n",
    "# oo\n",
    "display_rectangle(\"o\", 4, 2)"
   ]
  },
  {
   "cell_type": "markdown",
   "metadata": {
    "id": "eTt3QukPObNe"
   },
   "source": [
    "### 6. Write an algorithm to display a right triangle\n",
    "\n",
    "**Input**\n",
    "*   symbol\n",
    "*   length\n",
    "\n",
    "**Output**\n",
    "* The triangle displayed on the screen\n",
    "\n",
    "For instance, with symbol=\"*\" and length=5 we should get\n",
    "\n",
    "```\n",
    "*\n",
    "**\n",
    "***\n",
    "****\n",
    "*****\n",
    "```"
   ]
  },
  {
   "cell_type": "markdown",
   "metadata": {
    "id": "jjbf0pFyPJdv"
   },
   "source": [
    "**Write your algorithm here**\n",
    "\n",
    "..."
   ]
  },
  {
   "cell_type": "markdown",
   "metadata": {
    "id": "CNX_g1YkPPx8"
   },
   "source": [
    "### 7. Translate your algorithm into a method to display triangles.\n",
    "\n",
    "Follow the same guidelines as in exercise 4. I make a few calls to your method in the next cells"
   ]
  },
  {
   "cell_type": "code",
   "execution_count": null,
   "metadata": {
    "id": "ggqP1PgROsJL"
   },
   "outputs": [],
   "source": [
    "def display_triangle(symbol, length):\n",
    "  # Check that the length is reasonable\n",
    "  None\n",
    "  \n",
    "  # Check that the symbol is reasonable\n",
    "  None\n",
    "\n",
    "  # Display the triangle\n",
    "  None\n",
    "\n",
    "  return"
   ]
  },
  {
   "cell_type": "code",
   "execution_count": null,
   "metadata": {
    "id": "4EI6f-SCPrCo"
   },
   "outputs": [],
   "source": [
    "# Should display\n",
    "# o\n",
    "# oo\n",
    "# ooo\n",
    "display_triangle(\"o\", 3)"
   ]
  },
  {
   "cell_type": "code",
   "execution_count": null,
   "metadata": {
    "id": "wwte_M7mP0pu"
   },
   "outputs": [],
   "source": [
    "# Should trigger an error\n",
    "display_triangle(\"o\", -2)"
   ]
  },
  {
   "cell_type": "markdown",
   "metadata": {
    "id": "Fcjq4LWQ1vFS"
   },
   "source": [
    "### Extra 1. Let the user create not only symmetrical triangles, but ones with shorter vertical edge\n",
    "\n",
    "By defining shift as 1, we have the standard symmetrical triangle. If it becomes 2 or 3, it will become vertically shorter and shorter.\n"
   ]
  },
  {
   "cell_type": "code",
   "execution_count": null,
   "metadata": {
    "id": "jbaus3sWSlh3"
   },
   "outputs": [],
   "source": [
    "def display_triangle(symbol, length, shift=1):\n",
    "  # Check that the length is reasonable\n",
    "  None\n",
    "  \n",
    "  # Check that the symbol is reasonable\n",
    "  None\n",
    "\n",
    "  # Display the triangle\n",
    "  None\n",
    "\n",
    "  return"
   ]
  },
  {
   "cell_type": "code",
   "execution_count": null,
   "metadata": {
    "id": "WZp2qvJ_S9wQ"
   },
   "outputs": [],
   "source": [
    "# Should display\n",
    "# x\n",
    "# xxx\n",
    "display_triangle(\"o\", 5, 2)"
   ]
  },
  {
   "cell_type": "code",
   "execution_count": null,
   "metadata": {
    "id": "Fb9NR78yTYpV"
   },
   "outputs": [],
   "source": [
    "# Should display\n",
    "# x\n",
    "# xxxxxx\n",
    "# xxxxxxxxxxx\n",
    "# xxxxxxxxxxxxxxxx\n",
    "# xxxxxxxxxxxxxxxxxxxxx\n",
    "display_triangle(\"o\", 25, 5)"
   ]
  },
  {
   "cell_type": "code",
   "execution_count": null,
   "metadata": {
    "id": "Kx_uvbzgSAQ7"
   },
   "outputs": [],
   "source": []
  },
  {
   "cell_type": "markdown",
   "metadata": {
    "id": "Dkx-93xTYGaq"
   },
   "source": [
    "# End of the notebook\n",
    "\n",
    "---\n"
   ]
  }
 ],
 "metadata": {
  "colab": {
   "collapsed_sections": [],
   "name": "DIT_python_2020_notebook_1_static.ipynb",
   "provenance": []
  },
  "kernelspec": {
   "display_name": "Python 3",
   "language": "python",
   "name": "python3"
  },
  "language_info": {
   "codemirror_mode": {
    "name": "ipython",
    "version": 3
   },
   "file_extension": ".py",
   "mimetype": "text/x-python",
   "name": "python",
   "nbconvert_exporter": "python",
   "pygments_lexer": "ipython3",
   "version": "3.8.12"
  }
 },
 "nbformat": 4,
 "nbformat_minor": 1
}
