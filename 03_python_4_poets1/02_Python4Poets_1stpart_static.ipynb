{
  "nbformat": 4,
  "nbformat_minor": 0,
  "metadata": {
    "colab": {
      "name": "02_Python4Poets_1stpart_static.ipynb",
      "provenance": [],
      "collapsed_sections": []
    },
    "kernelspec": {
      "name": "python3",
      "display_name": "Python 3"
    }
  },
  "cells": [
    {
      "cell_type": "markdown",
      "metadata": {
        "id": "Ik_5kKpgmgJ2"
      },
      "source": [
        "# Python for Poets"
      ]
    },
    {
      "cell_type": "markdown",
      "metadata": {
        "id": "_akqWAD8mgJ8"
      },
      "source": [
        "This Jupyter Notebook is inspired on Keneth W. Church's [Unix for Poets](https://www.cs.upc.edu/~padro/Unixforpoets.pdf). From that chapter itself:\n",
        "\n",
        "- \"many researchers have more data than they know what to do with\"\n",
        "- \"Many researchers believe that they don’t have sufficient computing resources to do these things for themselves.\"\n",
        "- \"This chapter will describe a set of simple Unix-based (**Python in our case**) tools that should\n",
        "be more than adequate for counting trigrams on a corpus the size of the Brown Corpus\"\n",
        "- \"this chapter will focus on examples and avoid definitions whenever possible\"\n",
        "\n",
        "The code has been developed using Python 3.6. It has been written using [PyCharm](), and tested on [Colab](). All snippets could be run in any machine with Python 3.6 (or higher) installed, or online, as a Jupyter notebook.\n",
        "\n",
        "Note: the solution to many of these exercises is simpler using Unix/GNU Linux command line one-liners!"
      ]
    },
    {
      "cell_type": "markdown",
      "metadata": {
        "id": "i1tz4v8smgJ_"
      },
      "source": [
        "## 1. Excercise 1: Count words in a text"
      ]
    },
    {
      "cell_type": "markdown",
      "metadata": {
        "id": "FptYHPNKmgKC"
      },
      "source": [
        "From Chuch. \"The problem is to input a text file, say Genesis (a good place to start), and output a list of words in the file along with their frequency counts. The algorithm consists of three steps:\"\n",
        "\n",
        "1. Tokenize the text into a sequence of words ([re](https://docs.python.org/3.8/library/re.html)),\n",
        "2. Count the words (with a [dictionary](https://docs.python.org/3.8/tutorial/datastructures.html?highlight=dictionary#dictionaries) or with [Counter](https://docs.python.org/3.8/library/collections.html?highlight=counter#collections.Counter))\n"
      ]
    },
    {
      "cell_type": "code",
      "metadata": {
        "id": "bl4UCUsnmgKF"
      },
      "source": [
        "import re   "
      ],
      "execution_count": 1,
      "outputs": []
    },
    {
      "cell_type": "code",
      "metadata": {
        "id": "eor7NbtKDVs0"
      },
      "source": [
        "with open(\"genesis.txt\", 'r') as input:\n",
        "    txt = input.read()\n",
        "\n",
        "# Apply a regex to string txt and look for all occurrences of the given pattern\n",
        "tokens = re.findall('[A-Za-z]+', txt)\n"
      ],
      "execution_count": 3,
      "outputs": []
    },
    {
      "cell_type": "code",
      "metadata": {
        "id": "1WA6OW6sf1bX"
      },
      "source": [
        "print(tokens)"
      ],
      "execution_count": null,
      "outputs": []
    },
    {
      "cell_type": "markdown",
      "source": [
        "Option 1: using a [dictionary](https://docs.python.org/3/tutorial/datastructures.html#dictionaries)"
      ],
      "metadata": {
        "id": "9mZfZf2L2twj"
      }
    },
    {
      "cell_type": "code",
      "metadata": {
        "id": "71hXnC0ymgKa"
      },
      "source": [
        "mydict = {}\n",
        "for token in tokens:\n",
        "    if token not in mydict:\n",
        "        mydict[token] = 0\n",
        "    mydict[token] += 1\n",
        "print(mydict)"
      ],
      "execution_count": null,
      "outputs": []
    },
    {
      "cell_type": "markdown",
      "source": [
        "Option 2: using a [Counter](https://docs.python.org/3/library/collections.html?highlight=counter#collections.Counter)"
      ],
      "metadata": {
        "id": "n8fdfXOH3SbM"
      }
    },
    {
      "cell_type": "code",
      "metadata": {
        "id": "RuQ0VH4nmgKj"
      },
      "source": [
        "# Option 2: using a counter\n",
        "from collections import Counter\n",
        "counter = Counter(tokens)\n",
        "print(counter)\n",
        "\n",
        "print(counter['the'])"
      ],
      "execution_count": null,
      "outputs": []
    },
    {
      "cell_type": "code",
      "metadata": {
        "id": "dl9squPQjdfs"
      },
      "source": [
        "print(\"Counter\", counter[\"his\"])\n",
        "print(\"dictionary\", mydict[\"his\"])"
      ],
      "execution_count": null,
      "outputs": []
    },
    {
      "cell_type": "markdown",
      "metadata": {
        "id": "5oVxbjcPmgKq"
      },
      "source": [
        "- There are many official Python (and contributed) libraries available. They are imported with _import_:\n",
        "  - import _library_\n",
        "  - from _library_ import _module_\n",
        "- Once a library is imported, we have access to all its methods and classes \n",
        "- The contents of a (text) file are accessed with _open()_\n",
        "- Regular expressions are powerful tools to find patterns\n",
        "- Lists are precisely that: lists of elements. \n",
        "- Dictionaries are key-value pairs.\n",
        "- Loops are repetitions until certain condition is true (here we will use _for_)\n",
        "- Conditionals execute a code if a condition is _true_ (here we use a simple _if_)"
      ]
    },
    {
      "cell_type": "code",
      "metadata": {
        "id": "KVxvC1VLmgKs"
      },
      "source": [
        "# print the first k words in the text\n",
        "\n",
        "print(tokens)\n",
        "print(len(tokens))\n",
        "print(tokens[3])"
      ],
      "execution_count": null,
      "outputs": []
    },
    {
      "cell_type": "code",
      "metadata": {
        "id": "UgwzbyMgKx0n"
      },
      "source": [
        "for i in range(0, 20):\n",
        "  print(i, tokens[i])"
      ],
      "execution_count": null,
      "outputs": []
    },
    {
      "cell_type": "code",
      "metadata": {
        "id": "snpTDm2hK_Cn"
      },
      "source": [
        "print(tokens[0:7])"
      ],
      "execution_count": null,
      "outputs": []
    },
    {
      "cell_type": "code",
      "metadata": {
        "id": "cm1xAi92LBEF"
      },
      "source": [
        "print(tokens[-7:])"
      ],
      "execution_count": null,
      "outputs": []
    },
    {
      "cell_type": "code",
      "metadata": {
        "id": "VSY0ajczmgKy"
      },
      "source": [
        "# sort the words in the list\n",
        "\n",
        "sorted_tokens = sorted(tokens)\n",
        "print(sorted_tokens[:10])\n",
        "print(sorted_tokens[-10:])"
      ],
      "execution_count": null,
      "outputs": []
    },
    {
      "cell_type": "code",
      "metadata": {
        "id": "bJ8HCJ-rmgK6"
      },
      "source": [
        "# counting again, but this time on the sorted_tokens\n",
        "\n",
        "mydict = {}\n",
        "for token in sorted_tokens:\n",
        "    if token not in mydict:\n",
        "        mydict[token]  = 0\n",
        "    mydict[token] += 1\n",
        "print(mydict)"
      ],
      "execution_count": null,
      "outputs": []
    },
    {
      "cell_type": "markdown",
      "metadata": {
        "id": "flG0D9EYmgLA"
      },
      "source": [
        "## 2. Different ways of sorting a list of words"
      ]
    },
    {
      "cell_type": "markdown",
      "metadata": {
        "id": "LxGTPnvEmgLB"
      },
      "source": [
        "Ignore the case when counting: lower casing"
      ]
    },
    {
      "cell_type": "code",
      "metadata": {
        "id": "_npE7hS7oviw"
      },
      "source": [
        "print(txt)"
      ],
      "execution_count": null,
      "outputs": []
    },
    {
      "cell_type": "code",
      "metadata": {
        "id": "x9D_32Q5mgLE"
      },
      "source": [
        "txt = txt.lower()\n",
        "tokens = re.findall('[A-Za-z]+', txt)\n",
        "\n",
        "counter = Counter(tokens)\n",
        "print(counter)"
      ],
      "execution_count": null,
      "outputs": []
    },
    {
      "cell_type": "markdown",
      "metadata": {
        "id": "F_jz0b2WmgLK"
      },
      "source": [
        "Count sequences of vowels"
      ]
    },
    {
      "cell_type": "code",
      "metadata": {
        "id": "JK_bUBbYmgLL"
      },
      "source": [
        "vowels = re.findall('[aeiou]+', txt)\n",
        "counter = Counter(vowels)\n",
        "print(counter)"
      ],
      "execution_count": null,
      "outputs": []
    },
    {
      "cell_type": "markdown",
      "metadata": {
        "id": "tdozPGM-mgLS"
      },
      "source": [
        "Count sequences of consonants"
      ]
    },
    {
      "cell_type": "code",
      "metadata": {
        "id": "b5y2358dmgLT"
      },
      "source": [
        "consonants = re.findall('[bcdfghjklmnpqrstvwxyz]+', txt)\n",
        "counter = Counter(consonants)\n",
        "print(counter)"
      ],
      "execution_count": null,
      "outputs": []
    },
    {
      "cell_type": "markdown",
      "metadata": {
        "id": "MzVdw-mgmgLY"
      },
      "source": [
        "\n",
        "**From Unix for poets**\n",
        "\n",
        "\"These three examples are intended to show how easy it is to change the definition of what counts as a word. Sometimes you want to distinguish between upper and lower case, and sometimes you don’t [...] The same basic counting program can be used to count a variety of different things, depending on how you implement the definition of _thing_ (=token).\""
      ]
    },
    {
      "cell_type": "markdown",
      "metadata": {
        "id": "iKtW0ep_Dl6f"
      },
      "source": [
        "### 2.1 Sort in dictionary order"
      ]
    },
    {
      "cell_type": "code",
      "metadata": {
        "id": "OoSYXc8XFwbW"
      },
      "source": [
        "with open(\"genesis.txt\", 'r') as input:\n",
        "    txt = input.read()\n",
        "tokens = re.findall('[A-Za-z]+', txt)\n",
        "tokens = sorted(tokens)\n",
        "print(tokens)"
      ],
      "execution_count": null,
      "outputs": []
    },
    {
      "cell_type": "markdown",
      "metadata": {
        "id": "S1iXxuOzmgLj"
      },
      "source": [
        "### 2.2 Sort in \"rhyming\" order"
      ]
    },
    {
      "cell_type": "code",
      "metadata": {
        "id": "iAgJyIah_N-h"
      },
      "source": [
        "word = [\"hello how are you\", \"my name\", \"today\"]\n",
        "for w in word:\n",
        "  print(w[::-1])"
      ],
      "execution_count": null,
      "outputs": []
    },
    {
      "cell_type": "code",
      "metadata": {
        "id": "LIbAvPMQAvlg"
      },
      "source": [
        "for i in range(len(tokens) -1 ):\n",
        "  print(tokens[i:i+2])"
      ],
      "execution_count": null,
      "outputs": []
    },
    {
      "cell_type": "code",
      "metadata": {
        "id": "b1mMoydrmgLk"
      },
      "source": [
        "# Note this method!\n",
        "def invert(word):\n",
        "    return word[::-1]\n",
        "\n",
        "# Note the additional parameter\n",
        "rythm_tokens = sorted(tokens, key=invert)\n",
        "\n",
        "print(rythm_tokens)"
      ],
      "execution_count": null,
      "outputs": []
    },
    {
      "cell_type": "markdown",
      "metadata": {
        "id": "RUqC_jB-Mw8w"
      },
      "source": [
        "## 3. Compute n-gram statistics"
      ]
    },
    {
      "cell_type": "code",
      "metadata": {
        "id": "52qxLhAiDkzM"
      },
      "source": [
        "\"\".join([\"one\", \"two\", \"three\"])"
      ],
      "execution_count": null,
      "outputs": []
    },
    {
      "cell_type": "markdown",
      "metadata": {
        "id": "4PLJXZ81mgLt"
      },
      "source": [
        "For 2-grams"
      ]
    },
    {
      "cell_type": "code",
      "metadata": {
        "id": "T_i68Dv6mgLv"
      },
      "source": [
        "with open(\"genesis.txt\", 'r') as input:\n",
        "    txt = input.read()\n",
        "txt = txt.lower()\n",
        "tokens = re.findall('[A-Za-z]+', txt)\n",
        "\n",
        "bigrams = [\" \".join(tokens[i:i+2]) for i in range(len(tokens)-1) ] \n",
        "c = Counter(bigrams)\n",
        "print(c)"
      ],
      "execution_count": null,
      "outputs": []
    },
    {
      "cell_type": "markdown",
      "metadata": {
        "id": "RP2cTZrbmgL0"
      },
      "source": [
        "For 3-grams"
      ]
    },
    {
      "cell_type": "code",
      "metadata": {
        "id": "5FaDbwhbmgL1"
      },
      "source": [
        "trigrams = [\" \".join(tokens[i:i+3]) for i in range(len(tokens)-2)]\n",
        "c = Counter(trigrams)\n",
        "print(c)"
      ],
      "execution_count": null,
      "outputs": []
    },
    {
      "cell_type": "markdown",
      "metadata": {
        "id": "A8V5vH-TmgL5"
      },
      "source": [
        "For **any** n"
      ]
    },
    {
      "cell_type": "code",
      "metadata": {
        "id": "X6Gt5K0MmgL7"
      },
      "source": [
        "n = 4\n",
        "grams = [\" \".join(tokens[i:i+n]) for i in range(len(tokens)-n+1)]\n",
        "c = Counter(grams)\n",
        "print(c)"
      ],
      "execution_count": null,
      "outputs": []
    },
    {
      "cell_type": "markdown",
      "metadata": {
        "id": "05bwFeuymgMS"
      },
      "source": [
        "---\n",
        "\n",
        "# Exercises\n",
        "\n",
        "Your time to play with Genesis.\n",
        "\n",
        "First of all, load the corpus and store it into a variable named **txt**, containing a list of all the lines in it (hint: scroll up)"
      ]
    },
    {
      "cell_type": "code",
      "metadata": {
        "id": "C7sd30bPKRue"
      },
      "source": [
        "None"
      ],
      "execution_count": null,
      "outputs": []
    },
    {
      "cell_type": "markdown",
      "metadata": {
        "id": "YypFqvitKDL8"
      },
      "source": [
        "\n",
        "## 1. Create a list containing only those lines in the corpus **including** substring \"gh\"\n"
      ]
    },
    {
      "cell_type": "code",
      "metadata": {
        "id": "Ognf_igNOxIN"
      },
      "source": [
        "lines_with_gh = None\n",
        "\n",
        "\n",
        "print(lines_with_gh)"
      ],
      "execution_count": null,
      "outputs": []
    },
    {
      "cell_type": "markdown",
      "metadata": {
        "id": "D_D9KqhHKuHG"
      },
      "source": [
        "\n",
        "## 2.  Create a list containing only those lines in the corpus **not including** substring \"gh\""
      ]
    },
    {
      "cell_type": "code",
      "metadata": {
        "id": "s34-0xUvLBtn"
      },
      "source": [
        "lines_without_gh = None\n",
        "\n",
        "\n",
        "\n",
        "print(lines_with_gh)"
      ],
      "execution_count": null,
      "outputs": []
    },
    {
      "cell_type": "markdown",
      "metadata": {
        "id": "tcCTbrNKKfIP"
      },
      "source": [
        "\n",
        "## 3. . Create a list containing only those lines in the corpus **ending** with \"ing\""
      ]
    },
    {
      "cell_type": "code",
      "metadata": {
        "id": "ZEEOqbq9LTsI"
      },
      "source": [
        "lines_without_gh = None\n",
        "\n",
        "\n",
        "print(lines_without_gh)"
      ],
      "execution_count": null,
      "outputs": []
    },
    {
      "cell_type": "markdown",
      "metadata": {
        "id": "169Zj4xxmgMU"
      },
      "source": [
        "## Now start from scratch. \n",
        "\n",
        "Reload the corpus into a variable **txt** containing the full corpus as a single string"
      ]
    },
    {
      "cell_type": "code",
      "metadata": {
        "id": "goSI1D_BL-Vf"
      },
      "source": [
        "None"
      ],
      "execution_count": null,
      "outputs": []
    },
    {
      "cell_type": "markdown",
      "metadata": {
        "id": "Q3G7auxNL_Xq"
      },
      "source": [
        "## 4. How many uppercase tokens exist in this version of Genesis?\n"
      ]
    },
    {
      "cell_type": "code",
      "metadata": {
        "id": "deQPnDdNMOF_"
      },
      "source": [
        "None"
      ],
      "execution_count": null,
      "outputs": []
    },
    {
      "cell_type": "markdown",
      "metadata": {
        "id": "7DGuFU9iMPvR"
      },
      "source": [
        "## 5. How many 4-letter words exist in this version of Genesis?\n"
      ]
    },
    {
      "cell_type": "code",
      "metadata": {
        "id": "mXuR2cZyMi7s"
      },
      "source": [
        "None"
      ],
      "execution_count": null,
      "outputs": []
    },
    {
      "cell_type": "markdown",
      "metadata": {
        "id": "PlGe3qoQMkGp"
      },
      "source": [
        "## 6. How many words contain only vowels?\n",
        "\n"
      ]
    },
    {
      "cell_type": "code",
      "metadata": {
        "id": "GvCOiNjxMuQQ"
      },
      "source": [
        "None"
      ],
      "execution_count": null,
      "outputs": []
    },
    {
      "cell_type": "markdown",
      "metadata": {
        "id": "mIQoGOy5MvlD"
      },
      "source": [
        "## 7. Are there words without vowels?"
      ]
    },
    {
      "cell_type": "code",
      "metadata": {
        "id": "Zmq9qLzqM5vl"
      },
      "source": [
        "None"
      ],
      "execution_count": null,
      "outputs": []
    }
  ]
}