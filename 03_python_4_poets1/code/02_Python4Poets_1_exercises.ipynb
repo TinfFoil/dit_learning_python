{
 "cells": [
  {
   "cell_type": "code",
   "execution_count": null,
   "metadata": {},
   "outputs": [],
   "source": [
    "# This is to have markdown tables left aligned\n",
    "# It can be ignored\n",
    "from IPython.core.display import HTML\n",
    "table_css = 'table {align:left;display:block} '\n",
    "HTML('<style>{}</style>'.format(table_css))"
   ]
  },
  {
   "cell_type": "markdown",
   "metadata": {},
   "source": [
    "# DIT -- Computational thinking\n",
    "\n",
    "This notebook is part of the materials for three 2023/2024 lessons:# DIT -- Computing Learning\n",
    "\n",
    "\n",
    "| Code | Lesson |\n",
    "| :--- | :----------- |\n",
    "| B2696 | Computational Thinking |\n",
    "| 99797 | Advanced Professional Skills |\n",
    "| B3520 | Profession-based Research |\n",
    "\n",
    "It has also been used for the PhD seminars on python offered to the PhD students in 2022, 2023, and 2024 "
   ]
  },
  {
   "cell_type": "markdown",
   "metadata": {
    "id": "Ik_5kKpgmgJ2"
   },
   "source": [
    "# Python for Poets 1 (exercises)\n",
    "\n",
    "In each question, write anything necessary to address the problem (e.g., code, comments). \n",
    "\n",
    "At the end of the notebook there is a markdown cell in which you must write your answer to each of the questions."
   ]
  },
  {
   "cell_type": "markdown",
   "metadata": {
    "id": "05bwFeuymgMS"
   },
   "source": [
    "---\n",
    "\n",
    "# Exercises\n",
    "\n",
    "Your time to play with Genesis.\n",
    "\n",
    "First of all, load the corpus and store it into a variable named **txt**, containing a list of all the lines in it\n",
    "\n"
   ]
  },
  {
   "cell_type": "code",
   "execution_count": null,
   "metadata": {
    "id": "C7sd30bPKRue"
   },
   "outputs": [],
   "source": [
    "None"
   ]
  },
  {
   "cell_type": "markdown",
   "metadata": {
    "id": "YypFqvitKDL8"
   },
   "source": [
    "\n",
    "## 1. Create a list containing only those lines in the corpus **including** substring \"gh\". How many do we have?\n"
   ]
  },
  {
   "cell_type": "code",
   "execution_count": null,
   "metadata": {
    "id": "Ognf_igNOxIN"
   },
   "outputs": [],
   "source": [
    "lines_with_gh = None\n",
    "\n",
    "\n",
    "print(lines_with_gh)"
   ]
  },
  {
   "cell_type": "markdown",
   "metadata": {
    "id": "D_D9KqhHKuHG"
   },
   "source": [
    "\n",
    "## 2.  Create a list containing only those lines in the corpus **not including** substring \"gh\". How many do we have?"
   ]
  },
  {
   "cell_type": "code",
   "execution_count": null,
   "metadata": {
    "id": "s34-0xUvLBtn"
   },
   "outputs": [],
   "source": [
    "lines_without_gh = None\n",
    "\n",
    "\n",
    "\n",
    "print(lines_with_gh)"
   ]
  },
  {
   "cell_type": "markdown",
   "metadata": {
    "id": "tcCTbrNKKfIP"
   },
   "source": [
    "\n",
    "## 3. Create a list containing only those lines in the corpus **ending** with \"ing\". How many do we have?"
   ]
  },
  {
   "cell_type": "code",
   "execution_count": null,
   "metadata": {
    "id": "ZEEOqbq9LTsI"
   },
   "outputs": [],
   "source": [
    "lines_without_gh = None\n",
    "\n",
    "\n",
    "print(lines_without_gh)"
   ]
  },
  {
   "cell_type": "markdown",
   "metadata": {
    "id": "169Zj4xxmgMU"
   },
   "source": [
    "## Now start from scratch. \n",
    "\n",
    "Reload the corpus into a variable **txt** containing the full corpus as a single string"
   ]
  },
  {
   "cell_type": "code",
   "execution_count": null,
   "metadata": {
    "id": "goSI1D_BL-Vf"
   },
   "outputs": [],
   "source": [
    "None"
   ]
  },
  {
   "cell_type": "markdown",
   "metadata": {
    "id": "Q3G7auxNL_Xq"
   },
   "source": [
    "## 4. How many uppercase words exist in this version of Genesis?\n"
   ]
  },
  {
   "cell_type": "code",
   "execution_count": 1,
   "metadata": {
    "id": "deQPnDdNMOF_"
   },
   "outputs": [],
   "source": [
    "None"
   ]
  },
  {
   "cell_type": "markdown",
   "metadata": {
    "id": "7DGuFU9iMPvR"
   },
   "source": [
    "## 5. How many 4-letter words exist in this version of Genesis?\n"
   ]
  },
  {
   "cell_type": "code",
   "execution_count": null,
   "metadata": {
    "id": "mXuR2cZyMi7s"
   },
   "outputs": [],
   "source": [
    "None"
   ]
  },
  {
   "cell_type": "markdown",
   "metadata": {
    "id": "PlGe3qoQMkGp"
   },
   "source": [
    "## 6. How many words contain only vowels?\n",
    "\n"
   ]
  },
  {
   "cell_type": "code",
   "execution_count": null,
   "metadata": {
    "id": "GvCOiNjxMuQQ"
   },
   "outputs": [],
   "source": [
    "None"
   ]
  },
  {
   "cell_type": "markdown",
   "metadata": {
    "id": "mIQoGOy5MvlD"
   },
   "source": [
    "## 7. Are there words without vowels?. If yes, how many?"
   ]
  },
  {
   "cell_type": "code",
   "execution_count": null,
   "metadata": {
    "id": "Zmq9qLzqM5vl"
   },
   "outputs": [],
   "source": [
    "None"
   ]
  },
  {
   "cell_type": "markdown",
   "metadata": {},
   "source": [
    "# Answers\n",
    "\n",
    "Fill the gaps (e.g., write the number within the square brackets). Feel free to elaborate/discuss/justify your response if necessary. \n",
    "\n",
    "1. There are [ ] lines.\n",
    "\n",
    "2. There are [ ] lines.\n",
    "\n",
    "3. There are [ ] lines.\n",
    "\n",
    "4. There are [ ] uppercase words.\n",
    "\n",
    "5. There are [ ] 4-letter words.\n",
    "\n",
    "6. There are [ ] vowel-only words.\n",
    "\n",
    "7. [YES/NO]. (If yes,) there are [ ] words without vowels.  "
   ]
  },
  {
   "cell_type": "code",
   "execution_count": null,
   "metadata": {},
   "outputs": [],
   "source": []
  }
 ],
 "metadata": {
  "colab": {
   "collapsed_sections": [],
   "name": "02_Python4Poets_1stpart_static.ipynb",
   "provenance": []
  },
  "kernelspec": {
   "display_name": "Python 3 (ipykernel)",
   "language": "python",
   "name": "python3"
  },
  "language_info": {
   "codemirror_mode": {
    "name": "ipython",
    "version": 3
   },
   "file_extension": ".py",
   "mimetype": "text/x-python",
   "name": "python",
   "nbconvert_exporter": "python",
   "pygments_lexer": "ipython3",
   "version": "3.9.16"
  }
 },
 "nbformat": 4,
 "nbformat_minor": 1
}
