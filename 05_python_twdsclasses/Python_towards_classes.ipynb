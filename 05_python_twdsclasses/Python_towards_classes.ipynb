{
 "cells": [
  {
   "cell_type": "markdown",
   "metadata": {
    "id": "Ik_5kKpgmgJ2"
   },
   "source": [
    "# Towards Classes"
   ]
  },
  {
   "cell_type": "markdown",
   "metadata": {
    "id": "_akqWAD8mgJ8"
   },
   "source": [
    "## 1. Python variable scope (global vs local)"
   ]
  },
  {
   "cell_type": "code",
   "execution_count": null,
   "metadata": {
    "id": "a8-1mTnLmgMC"
   },
   "outputs": [],
   "source": [
    "# 1. What am I going to get here?\n",
    "\n",
    "x = 5\n",
    "\n",
    "def my_function():\n",
    "    x = 3\n",
    "    return\n",
    "\n",
    "print(x)"
   ]
  },
  {
   "cell_type": "code",
   "execution_count": null,
   "metadata": {},
   "outputs": [],
   "source": [
    "# 2. What am I going to get here instead?\n",
    "x = 5\n",
    "\n",
    "def my_function():\n",
    "    x = 3\n",
    "    return\n",
    "\n",
    "my_function()\n",
    "print(x)"
   ]
  },
  {
   "cell_type": "code",
   "execution_count": null,
   "metadata": {},
   "outputs": [],
   "source": [
    "# 3. What am I going to get here instead?\n",
    "\n",
    "def my_function():\n",
    "    y = 3\n",
    "    return\n",
    "\n",
    "print(y)"
   ]
  },
  {
   "cell_type": "code",
   "execution_count": null,
   "metadata": {},
   "outputs": [],
   "source": [
    "# 4. Finally, what am I going to get here?\n",
    "\n",
    "y = 5\n",
    "\n",
    "def my_function():\n",
    "    print(y)\n",
    "    return\n",
    "\n",
    "my_function()"
   ]
  },
  {
   "cell_type": "markdown",
   "metadata": {
    "id": "GoT__6UjmgL_"
   },
   "source": [
    "From [Python basics](https://pythonbasics.org/scope/):\n",
    "\n",
    "- Variables have a certain reach within a program. \n",
    "- A global variable can be used anywhere in a program, but a local variable is known only in a certain area (e.g., function, loop)\n",
    "- A variable can be outside the scope of a function.\n",
    "\n",
    "About these examples:\n",
    "\n",
    "1. Contains two variables: a **global x**, that belongs to the main program, and a **local x**, that belongs to a function.\n",
    "2. Same as 1; nothing changes, even if I am calling the function.\n",
    "3. We have only declared one **local y**, which I cannot \"see\" from the main program.\n",
    "4. Functions can \"see\" **global** variables.\n",
    "\n",
    "Think of them as Ms. **global.x** and Ms. **my_function.x**, which are two different ladies."
   ]
  },
  {
   "cell_type": "markdown",
   "metadata": {
    "id": "I_QAoE-5mgMA"
   },
   "source": [
    "## 2. Functions vs methods\n",
    "\n",
    "From [w3schools](https://www.w3schools.com/python/python_functions.asp):\n",
    "\n",
    "- A function is a block of code which only runs when it is called. \n",
    "- You can pass data, known as parameters, into a function. \n",
    "- A function can return data as a result.\n",
    "\n",
    "A method is a function as well, but methods are asssociated to classes."
   ]
  },
  {
   "cell_type": "markdown",
   "metadata": {},
   "source": [
    "## 3. Classes\n",
    "\n",
    "From [Python 3's tutorial](https://docs.python.org/3/tutorial/classes.html):\n",
    "\n",
    "- Classes provide a means of bundling data and functionality together. \n",
    "- Creating a new class creates a new type of object, allowing new instances of that type to be made. \n",
    "- Each class instance can have attributes attached to it for maintaining its state. \n",
    "- Class instances can also have methods (defined by its class) for modifying its state.\n",
    "\n",
    "Let us define a simple class:"
   ]
  },
  {
   "cell_type": "code",
   "execution_count": null,
   "metadata": {},
   "outputs": [],
   "source": [
    "import math\n",
    "\n",
    "class Circle():\n",
    "    \"\"\"Specifications:\n",
    "    \n",
    "    - It should have a \"radius\" instance variable.\n",
    "    - It should have a method to compute the area (𝜋𝑟2).\n",
    "    - It should have a method to compute the perimeter (2𝜋𝑟).\n",
    "    \"\"\"\n",
    "    \n",
    "    # class variable shared by all instances\n",
    "    pi = math.pi # using math.pi for 𝜋 (we could use math.pi directly!)\n",
    "    \n",
    "    \n",
    "    # method (function) __init__  is the first to be executed when \n",
    "    # instantiating this class. \n",
    "    # It is known as \"the constructor\"\n",
    "    def __init__(self, radius):\n",
    "        self.radius = radius # instance variable (unique to each instance)\n",
    "    \n",
    "    \n",
    "    # a \"standard\" method  (notice argument \"self\", which is the \n",
    "    # link to instance variables)\n",
    "    def area(self):\n",
    "        \"\"\"return the area of the circle: pi*radius^2\"\"\"\n",
    "        return self.pi * self.radius**2\n",
    "\n",
    "    \n",
    "    def perimeter(self):\n",
    "        \"\"\"return the perimeter of the circle: 2*pi*radius\"\"\"\n",
    "        return 2 * self.pi * self.radius\n",
    "    \n",
    "    \n",
    "# circley = Circle(4.0)\n",
    "# print('area (should be about 50.265):', circley.area())\n",
    "# print('perimeter (should be about 25.133):', circley.perimeter())"
   ]
  },
  {
   "cell_type": "markdown",
   "metadata": {},
   "source": [
    "Testing class Circle"
   ]
  },
  {
   "cell_type": "code",
   "execution_count": null,
   "metadata": {},
   "outputs": [],
   "source": [
    "radius = 4\n",
    "\n",
    "# instantiating the class (this is also known as \"creating an object\")\n",
    "myCircle = Circle(radius)\n",
    "\n",
    "# calling the methods from the class\n",
    "\n",
    "# with r=4, should be 50.265\n",
    "print(\"area of the circle with radius\", radius, \":\\n\\t\\t\",  myCircle.area()) \n",
    "\n",
    "# with r=4, should be 25.132\n",
    "print(\"perimeter of the circle with radius\", radius, \":\\n\\t\\t\",  myCircle.perimeter())"
   ]
  },
  {
   "cell_type": "markdown",
   "metadata": {},
   "source": [
    "### Create a class called 'Counter' that implements a counting function.\n",
    "\n",
    "- Its constructor should take no parameters except for 'self'.\n",
    "- It should have a 'count' instance variable that is initialized to zero (do not use a parameter for it).\n",
    "- It should have a method called 'next_number' for getting the next number which adds one to 'count' and then     \n"
   ]
  },
  {
   "cell_type": "code",
   "execution_count": null,
   "metadata": {},
   "outputs": [],
   "source": [
    "class Counter():\n",
    "    \n",
    "    None"
   ]
  },
  {
   "cell_type": "code",
   "execution_count": null,
   "metadata": {
    "id": "0qCxJTJ6mgMG"
   },
   "outputs": [],
   "source": [
    "# Testing your class:\n",
    "\n",
    "county = Counter()\n",
    "print('next (should be 1):', county.next_number())\n",
    "print('next (should be 2):', county.next_number())\n",
    "print('next (should be 3):', county.next_number())"
   ]
  },
  {
   "cell_type": "markdown",
   "metadata": {
    "id": "169Zj4xxmgMU"
   },
   "source": [
    "## Take-home exercises 1\n",
    "1. Create a class square and implement the methods to compute perimeter and area\n",
    "2. Create a class rectangle and implement the methods to compute perimeter and area\n",
    "3. Create a class corpus:\n",
    "  - The constructor should get the path to the (input) text file (assume genesis.txt) and should load it into an instance variable\n",
    "  - Add a method **tokens** that returns the list of tokens (a) in the file order or (b) in alphabetical order.\n",
    "  - Add a method **vocabulary** that returns the vocabulary.  \n",
    "  - Add a method **ngrams** that returns the list of n-grams of size _n_.\n",
    "  - Add a method **length** that returns the number of tokens.\n",
    "  - Add a method **frequency** that returns the frequency of a given token."
   ]
  },
  {
   "cell_type": "code",
   "execution_count": null,
   "metadata": {},
   "outputs": [],
   "source": [
    "class Corpus:\n",
    "    \n",
    "    def __init__(self, None):\n",
    "        self.tokens = None\n",
    "    None"
   ]
  },
  {
   "cell_type": "markdown",
   "metadata": {
    "id": "JCp3cV0gmgMV"
   },
   "source": [
    "# 4. Inheritance\n",
    "\n",
    "Some times, the bahaviour of a class (or a specific method within it) does not fulfill the requirements. In that case, you do not need to re-implement the whole class. You can extend the class and **override** those components that have to behave in a different way.\n",
    "\n",
    "Here I am overriding **length** to give the length in terms of characters instead of tokens."
   ]
  },
  {
   "cell_type": "code",
   "execution_count": null,
   "metadata": {
    "id": "RawhEYR5mgMW"
   },
   "outputs": [],
   "source": [
    "class CharCorpus(Corpus):\n",
    "    \n",
    "    def length():\n",
    "        return sum([len(x) for x in self.tokens])\n",
    "        "
   ]
  },
  {
   "cell_type": "code",
   "execution_count": null,
   "metadata": {
    "id": "Aezo1K2hmgNM"
   },
   "outputs": [],
   "source": [
    "my_corpus = Corpus(\"genesis.txt\")\n",
    "print(my_corpus.length())\n",
    "\n",
    "ch_corpus = CharCorpus(\"genesis.txt\")\n",
    "print(my_corpus.length())"
   ]
  },
  {
   "cell_type": "markdown",
   "metadata": {},
   "source": [
    "## Take-home exercises 2\n",
    "1. Extend class Counter to allow for the definition of the step \n",
    "2. Extend class Corpus (add the necessary methods) to compute mutual information for a given _2_-gram \n"
   ]
  },
  {
   "cell_type": "code",
   "execution_count": null,
   "metadata": {},
   "outputs": [],
   "source": []
  }
 ],
 "metadata": {
  "colab": {
   "collapsed_sections": [
    "iKtW0ep_Dl6f",
    "kb5Yf6JdmgNL"
   ],
   "name": "Python4Poets_static.ipynb",
   "provenance": [],
   "toc_visible": true
  },
  "kernelspec": {
   "display_name": "Python 3 (ipykernel)",
   "language": "python",
   "name": "python3"
  },
  "language_info": {
   "codemirror_mode": {
    "name": "ipython",
    "version": 3
   },
   "file_extension": ".py",
   "mimetype": "text/x-python",
   "name": "python",
   "nbconvert_exporter": "python",
   "pygments_lexer": "ipython3",
   "version": "3.9.16"
  }
 },
 "nbformat": 4,
 "nbformat_minor": 1
}
