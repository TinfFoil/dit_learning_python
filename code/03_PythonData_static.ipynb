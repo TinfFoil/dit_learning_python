{
 "cells": [
  {
   "cell_type": "markdown",
   "id": "optional-painting",
   "metadata": {},
   "source": [
    "# DIT PhD introduction to programming 2024-2025\n",
    "\n",
    "\n",
    "## Functions and Data Structures"
   ]
  },
  {
   "cell_type": "markdown",
   "id": "advanced-brook",
   "metadata": {},
   "source": [
    "## 1. A few python built-in functions\n",
    "\n",
    "Partially based on Peroni's [Computational Thinking and Programming](https://comp-think.github.io/)\n",
    "\n",
    "Full reference of built-in functions [here](https://docs.python.org/3/library/functions.html)."
   ]
  },
  {
   "cell_type": "markdown",
   "id": "attended-generator",
   "metadata": {},
   "source": [
    "`print()`"
   ]
  },
  {
   "cell_type": "code",
   "execution_count": null,
   "id": "lasting-gnome",
   "metadata": {},
   "outputs": [],
   "source": [
    "str1 = \"buongiorno\"\n",
    "str2 = \"buonasera\"\n",
    "str3 = \"mattina\"\n",
    "\n",
    "# display a string to the screen, single line break\n",
    "print(\"print this to the screen\")\n",
    "\n",
    "# display various strings (space-separated); double line break\n",
    "print(str1, \"sono le 9.00;\\n\", str2, \"sono le 21.00\\n\")\n",
    "\n",
    "# display with place holders\n",
    "print(\"%s, sono le %i della %s\" % (str1, 11, str3))"
   ]
  },
  {
   "cell_type": "markdown",
   "id": "horizontal-question",
   "metadata": {},
   "source": [
    "`len()`"
   ]
  },
  {
   "cell_type": "code",
   "execution_count": null,
   "id": "optimum-arctic",
   "metadata": {},
   "outputs": [],
   "source": [
    "print(\"Length of 'tre':\", len(\"due\"))\n",
    "\n",
    "print(\"Length of a list:\", len([\"uno\", \"due\", \"tre quatro\", \"cinque\"]))"
   ]
  },
  {
   "cell_type": "markdown",
   "id": "prescription-centre",
   "metadata": {},
   "source": [
    "## 2. User-defined functions"
   ]
  },
  {
   "cell_type": "markdown",
   "id": "norman-management",
   "metadata": {},
   "source": [
    "Function with arguments and return"
   ]
  },
  {
   "cell_type": "code",
   "execution_count": null,
   "id": "combined-twelve",
   "metadata": {},
   "outputs": [],
   "source": [
    "def rectangle_area(length, width):\n",
    "    None\n",
    "    \n",
    "x = 3\n",
    "y = 4\n",
    "area = rectangle_area(x, y)\n",
    "print(\"The area of a rectangle with sides %i and %i is: %i\" % (x, y, area))"
   ]
  },
  {
   "cell_type": "markdown",
   "id": "final-syntax",
   "metadata": {},
   "source": [
    "Function with (optional) default arguments and no return"
   ]
  },
  {
   "cell_type": "code",
   "execution_count": null,
   "id": "asian-economics",
   "metadata": {},
   "outputs": [],
   "source": [
    "def display_square(length, symbol=\"*\"):\n",
    "    None \n",
    "    \n",
    "display_square(5)"
   ]
  },
  {
   "cell_type": "code",
   "execution_count": null,
   "id": "patient-prayer",
   "metadata": {},
   "outputs": [],
   "source": [
    "display_square(5, \"=\")"
   ]
  },
  {
   "cell_type": "markdown",
   "id": "false-qualification",
   "metadata": {},
   "source": [
    "Function with explicit data types, both for the arguments and for the return"
   ]
  },
  {
   "cell_type": "code",
   "execution_count": null,
   "id": "popular-minister",
   "metadata": {},
   "outputs": [],
   "source": [
    "def hello_name(name: str) -> str: \n",
    "    return(f\"Hello {name}\")\n",
    "\n",
    "message = hello_name(\"Hotch\")\n",
    "print(message)"
   ]
  },
  {
   "cell_type": "code",
   "execution_count": null,
   "id": "aware-facing",
   "metadata": {},
   "outputs": [],
   "source": [
    "# what is going to happen here?\n",
    "print(hello_name(8))"
   ]
  },
  {
   "cell_type": "markdown",
   "id": "resident-magnitude",
   "metadata": {},
   "source": [
    "Function with docstring"
   ]
  },
  {
   "cell_type": "code",
   "execution_count": null,
   "id": "stopped-passenger",
   "metadata": {},
   "outputs": [],
   "source": [
    "def increment_n_by_k(n, k=1): \n",
    "    \"\"\"\n",
    "    Adds k to the n\n",
    "    \n",
    "    Parameters\n",
    "    ---------- \n",
    "    n : int\n",
    "        An integer number representing ... \n",
    "    k : int , optional\n",
    "        The value to be added to n\"\"\"\n",
    "    return n + k\n",
    "\n",
    "increment_n_by_k(5)"
   ]
  },
  {
   "cell_type": "markdown",
   "id": "quiet-lesson",
   "metadata": {},
   "source": [
    "## 3. Some data structures"
   ]
  },
  {
   "cell_type": "markdown",
   "id": "renewable-scott",
   "metadata": {},
   "source": [
    "### Lists"
   ]
  },
  {
   "cell_type": "code",
   "execution_count": null,
   "id": "completed-might",
   "metadata": {},
   "outputs": [],
   "source": [
    "# create a new list\n",
    "my_first_list = list()  "
   ]
  },
  {
   "cell_type": "code",
   "execution_count": null,
   "id": "certain-litigation",
   "metadata": {},
   "outputs": [],
   "source": [
    "# append elements (in this case integers) to the list\n",
    "my_first_list.append(34)  \n",
    "my_first_list.append(15)  \n",
    "my_first_list.append(34)  \n",
    "print(my_first_list)"
   ]
  },
  {
   "cell_type": "code",
   "execution_count": null,
   "id": "affected-retirement",
   "metadata": {},
   "outputs": [],
   "source": [
    "# append elements (now a string!) to the list \n",
    "my_first_list.append(\"fifty\")\n",
    "\n",
    "print(my_first_list)"
   ]
  },
  {
   "cell_type": "code",
   "execution_count": null,
   "id": "cordless-decade",
   "metadata": {},
   "outputs": [],
   "source": [
    "# remove the first instance of number 34\n",
    "my_first_list.remove(34)\n",
    "\n",
    "print(my_first_list)"
   ]
  },
  {
   "cell_type": "code",
   "execution_count": null,
   "id": "roman-heater",
   "metadata": {},
   "outputs": [],
   "source": [
    "# extend a list\n",
    "\n",
    "my_first_list.extend(my_first_list)\n",
    "print(my_first_list)\n"
   ]
  },
  {
   "cell_type": "code",
   "execution_count": null,
   "id": "better-israel",
   "metadata": {},
   "outputs": [],
   "source": [
    "# extend a list\n",
    "\n",
    "my_first_list.extend([\"another\", \"list\"])\n",
    "print(my_first_list)"
   ]
  },
  {
   "cell_type": "code",
   "execution_count": null,
   "id": "medium-store",
   "metadata": {},
   "outputs": [],
   "source": [
    "# append vs extend (watch out!)\n",
    "my_first_list.append([\"another\", \"list\"])\n",
    "\n",
    "print(my_first_list)"
   ]
  },
  {
   "cell_type": "code",
   "execution_count": null,
   "id": "registered-preliminary",
   "metadata": {},
   "outputs": [],
   "source": [
    "# length of the list\n",
    "len(my_first_list)"
   ]
  },
  {
   "cell_type": "code",
   "execution_count": null,
   "id": "convinced-replacement",
   "metadata": {},
   "outputs": [],
   "source": [
    "# accessing one specific element of the list, using its index\n",
    "\n",
    "print(my_first_list[1])\n",
    "print(my_first_list[-1])\n",
    "print(my_first_list[-2])"
   ]
  },
  {
   "cell_type": "code",
   "execution_count": null,
   "id": "unlike-foster",
   "metadata": {},
   "outputs": [],
   "source": [
    "# slicing a list (accessing multiple elements)\n",
    "# again using indexes as boundaries\n",
    "print(my_first_list[2:4])\n",
    "print(my_first_list[3:])\n",
    "print(my_first_list[:-1])"
   ]
  },
  {
   "cell_type": "code",
   "execution_count": null,
   "id": "scheduled-suite",
   "metadata": {},
   "outputs": [],
   "source": [
    "# which value am I going to get here?\n",
    "print(len(my_first_list[-1]))"
   ]
  },
  {
   "cell_type": "code",
   "execution_count": null,
   "id": "vocational-reproduction",
   "metadata": {},
   "outputs": [],
   "source": [
    "# and here?\n",
    "print(len(my_first_list[-1][0]))"
   ]
  },
  {
   "cell_type": "markdown",
   "id": "bulgarian-western",
   "metadata": {},
   "source": [
    "### Sets"
   ]
  },
  {
   "cell_type": "code",
   "execution_count": null,
   "id": "naval-equality",
   "metadata": {},
   "outputs": [],
   "source": [
    "# create a new set\n",
    "my_first_set = set() \n",
    "\n",
    "# add two elements (int) to the set (w/o particular order)\n",
    "my_first_set.add(34) \n",
    "my_first_set.add(15)\n",
    "\n",
    "print(my_first_set)"
   ]
  },
  {
   "cell_type": "code",
   "execution_count": null,
   "id": "accessible-anthony",
   "metadata": {},
   "outputs": [],
   "source": [
    "# add one more element (string!)\n",
    "my_first_set.add(\"twenty\")\n",
    "\n",
    "print(my_first_set)"
   ]
  },
  {
   "cell_type": "code",
   "execution_count": null,
   "id": "altered-albert",
   "metadata": {},
   "outputs": [],
   "source": [
    "# size of the set\n",
    "len(my_first_set)"
   ]
  },
  {
   "cell_type": "code",
   "execution_count": null,
   "id": "attractive-culture",
   "metadata": {},
   "outputs": [],
   "source": [
    "# removing an element\n",
    "my_first_set.remove(34)  # it removes the number 34\n",
    "print(my_first_set)"
   ]
  },
  {
   "cell_type": "code",
   "execution_count": null,
   "id": "surrounded-solomon",
   "metadata": {},
   "outputs": [],
   "source": [
    "# adding an existing element\n",
    "my_first_set.add(15)\n",
    "print(my_first_set)"
   ]
  },
  {
   "cell_type": "code",
   "execution_count": null,
   "id": "necessary-boston",
   "metadata": {},
   "outputs": [],
   "source": [
    "# updating (addign all the elements from a \"second\" set)\n",
    "my_first_set.update(my_first_set)  \n",
    "print(my_first_set)"
   ]
  },
  {
   "cell_type": "code",
   "execution_count": null,
   "id": "controlling-empire",
   "metadata": {},
   "outputs": [],
   "source": [
    "# Explicit set creation\n",
    "my_second_set = {1, 2, 15, \"three\"}\n",
    "print(my_second_set)"
   ]
  },
  {
   "cell_type": "code",
   "execution_count": null,
   "id": "connected-dream",
   "metadata": {},
   "outputs": [],
   "source": [
    "# updating, this time for real\n",
    "my_first_set.update(my_second_set)  \n",
    "print(my_first_set)"
   ]
  },
  {
   "cell_type": "markdown",
   "id": "middle-launch",
   "metadata": {},
   "source": [
    "### Dictionaries"
   ]
  },
  {
   "cell_type": "code",
   "execution_count": null,
   "id": "breathing-merchandise",
   "metadata": {},
   "outputs": [],
   "source": [
    "# create a new dictionary\n",
    "my_first_dict = dict()  \n",
    "\n",
    "# add two entries two the dictionary\n",
    "my_first_dict[\"age\"] = 30\n",
    "my_first_dict[\"birthday\"] = 15\n",
    "\n",
    "print(my_first_dict)"
   ]
  },
  {
   "cell_type": "code",
   "execution_count": null,
   "id": "hawaiian-charlotte",
   "metadata": {},
   "outputs": [],
   "source": [
    "# a dictionary can contain even key-value pairs of different types\n",
    "my_first_dict[\"name\"] = \"Kyo Kusanagi\"\n",
    "my_first_dict[2] = 2\n",
    "\n",
    "print(my_first_dict)"
   ]
  },
  {
   "cell_type": "code",
   "execution_count": null,
   "id": "suited-organization",
   "metadata": {
    "scrolled": true
   },
   "outputs": [],
   "source": [
    "# delete one entry\n",
    "# it removes the pair with associated key \"age\"\n",
    "del my_first_dict[\"age\"]  \n",
    "\n",
    "print(my_first_dict)"
   ]
  },
  {
   "cell_type": "code",
   "execution_count": null,
   "id": "alive-initial",
   "metadata": {},
   "outputs": [],
   "source": [
    "# get the value associated to a key\n",
    "\n",
    "print(my_first_dict.get(\"name\"))"
   ]
  },
  {
   "cell_type": "code",
   "execution_count": null,
   "id": "native-merit",
   "metadata": {},
   "outputs": [],
   "source": [
    "# what is going to happen here?\n",
    "print(my_first_dict.get(\"age\"))"
   ]
  },
  {
   "cell_type": "code",
   "execution_count": null,
   "id": "opened-viewer",
   "metadata": {},
   "outputs": [],
   "source": [
    "# updating the value associated to a key\n",
    "my_first_dict[2] = 3\n",
    "\n",
    "print(my_first_dict)"
   ]
  },
  {
   "cell_type": "code",
   "execution_count": null,
   "id": "announced-innocent",
   "metadata": {},
   "outputs": [],
   "source": [
    "# create a second dictionary \n",
    "my_second_dict = {\n",
    "    \"month of birth\": 12, \n",
    "    \"day of birth\": 28\n",
    "}\n",
    "print(my_second_dict)"
   ]
  },
  {
   "cell_type": "code",
   "execution_count": null,
   "id": "documentary-monday",
   "metadata": {},
   "outputs": [],
   "source": [
    "# update the first dictionary with the second one\n",
    "my_first_dict.update(my_second_dict)\n",
    "\n",
    "print(my_first_dict)"
   ]
  },
  {
   "cell_type": "code",
   "execution_count": null,
   "id": "enabling-powder",
   "metadata": {},
   "outputs": [],
   "source": [
    "# number of elements in my dictionary\n",
    "my_first_dict_len = len(my_first_dict)\n",
    "print(my_first_dict_len)"
   ]
  },
  {
   "cell_type": "markdown",
   "id": "dc92839f",
   "metadata": {},
   "source": [
    "**end of the notebook**"
   ]
  }
 ],
 "metadata": {
  "kernelspec": {
   "display_name": "Python 3 (ipykernel)",
   "language": "python",
   "name": "python3"
  },
  "language_info": {
   "codemirror_mode": {
    "name": "ipython",
    "version": 3
   },
   "file_extension": ".py",
   "mimetype": "text/x-python",
   "name": "python",
   "nbconvert_exporter": "python",
   "pygments_lexer": "ipython3",
   "version": "3.10.12"
  }
 },
 "nbformat": 4,
 "nbformat_minor": 5
}
